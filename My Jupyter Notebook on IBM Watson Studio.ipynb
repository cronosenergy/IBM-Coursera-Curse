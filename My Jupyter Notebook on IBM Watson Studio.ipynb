{
 "cells": [
  {
   "cell_type": "markdown",
   "id": "cdc22972",
   "metadata": {},
   "source": [
    "# My Jupyter Notebook on IBM Watson Studio #"
   ]
  },
  {
   "cell_type": "markdown",
   "id": "8f3b3d07",
   "metadata": {},
   "source": [
    "**José J. García Alicea**\n",
    "\n",
    "AI Engineer\n"
   ]
  },
  {
   "cell_type": "markdown",
   "id": "44f109e1",
   "metadata": {},
   "source": [
    "*I'm interested in data science because I want to build better robots.*"
   ]
  },
  {
   "cell_type": "markdown",
   "id": "68873927",
   "metadata": {},
   "source": [
    "### Arithmetic Equation ###"
   ]
  },
  {
   "cell_type": "code",
   "execution_count": 3,
   "id": "ebf44c91",
   "metadata": {},
   "outputs": [
    {
     "data": {
      "text/plain": [
       "5.0"
      ]
     },
     "execution_count": 3,
     "metadata": {},
     "output_type": "execute_result"
    }
   ],
   "source": [
    "5 * 2 /2"
   ]
  },
  {
   "cell_type": "markdown",
   "id": "98428be8",
   "metadata": {},
   "source": [
    "Hi! My name is Joel <hr>\n",
    "* E-mail: joel@cronosenegy.net\n"
   ]
  },
  {
   "cell_type": "code",
   "execution_count": null,
   "id": "0b30d004",
   "metadata": {},
   "outputs": [],
   "source": []
  }
 ],
 "metadata": {
  "kernelspec": {
   "display_name": "Python 3 (ipykernel)",
   "language": "python",
   "name": "python3"
  },
  "language_info": {
   "codemirror_mode": {
    "name": "ipython",
    "version": 3
   },
   "file_extension": ".py",
   "mimetype": "text/x-python",
   "name": "python",
   "nbconvert_exporter": "python",
   "pygments_lexer": "ipython3",
   "version": "3.9.13"
  }
 },
 "nbformat": 4,
 "nbformat_minor": 5
}
