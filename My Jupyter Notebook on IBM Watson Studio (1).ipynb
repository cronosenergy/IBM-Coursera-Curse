{
 "cells": [
  {
   "cell_type": "markdown",
   "id": "cdc22972",
   "metadata": {},
   "source": [
    "# My Jupyter Notebook on IBM Watson Studio #"
   ]
  },
  {
   "cell_type": "markdown",
   "id": "8f3b3d07",
   "metadata": {},
   "source": [
    "**José J. García Alicea**\n",
    "\n",
    "AI Engineer\n"
   ]
  },
  {
   "cell_type": "markdown",
   "id": "44f109e1",
   "metadata": {},
   "source": [
    "*I'm interested in data science because I want to build better robots.*"
   ]
  },
  {
   "cell_type": "markdown",
   "id": "ec6b81c9",
   "metadata": {},
   "source": [
    "### Objectives ###\n",
    "\n",
    "1. Create a markdown cell with the title of the notebook. \n",
    "\n",
    "2. Create a markdown cell for an introduction. \n",
    "\n",
    "3. Create a markdown cell to list data science languages.\n",
    "\n",
    "4. Create a markdown cell to list data science libraries. \n",
    "\n",
    "5. Create a markdown cell with a table of Data Science tools.\n",
    "\n",
    "6. Create a markdown cell introducing arithmetic expression examples. \n",
    "\n",
    "7. Create a code cell to multiply and add numbers.\n",
    "\n",
    "8. Create a code cell to convert minutes to hours.\n",
    "\n",
    "9. Insert a markdown cell to list Objectives.\n",
    "\n",
    "10. Create a markdown cell to indicate the Author’s name.\n",
    "\n",
    "11. Share your notebook through GitHub.\n",
    "\n",
    "12. Take a screenshot of the first page of the notebook."
   ]
  },
  {
   "cell_type": "markdown",
   "id": "68873927",
   "metadata": {},
   "source": [
    "### Basic Arithmetic Expression ###"
   ]
  },
  {
   "cell_type": "code",
   "execution_count": 1,
   "id": "ebf44c91",
   "metadata": {},
   "outputs": [
    {
     "data": {
      "text/plain": [
       "5.0"
      ]
     },
     "execution_count": 1,
     "metadata": {},
     "output_type": "execute_result"
    }
   ],
   "source": [
    "(5 * 2)  /2"
   ]
  },
  {
   "cell_type": "markdown",
   "id": "98428be8",
   "metadata": {},
   "source": [
    "Hi! My name is Joel <hr>\n",
    "* E-mail: joel@cronosenegy.net\n"
   ]
  },
  {
   "cell_type": "markdown",
   "id": "72775c02",
   "metadata": {},
   "source": [
    "### Data Science Languages ###"
   ]
  },
  {
   "cell_type": "markdown",
   "id": "b36b78df",
   "metadata": {},
   "source": [
    "* Python\n",
    "* R\n",
    "* SQL\n",
    "* Java\n",
    "* Julia\n",
    "* Scala\n",
    "* C/C++\n",
    "* JavaScript\n",
    "* Swift\n",
    "* Go\n",
    "* MATLAB\n",
    "* SAS"
   ]
  },
  {
   "cell_type": "markdown",
   "id": "4526fa47",
   "metadata": {},
   "source": [
    "### Data Science Libraries ###"
   ]
  },
  {
   "cell_type": "markdown",
   "id": "bc8ac529",
   "metadata": {},
   "source": [
    "* TensorFlow\n",
    "* NumPy\n",
    "* SciPy \n",
    "* Pandas\n",
    "* Matplotlib \n",
    "* Keras\n",
    "* SciKit-Learn\n",
    "* PyTorch\n",
    "* Scrapy\n",
    "* BeautifulSoup"
   ]
  },
  {
   "cell_type": "markdown",
   "id": "69a1f928",
   "metadata": {},
   "source": [
    "| Data Science Tools |\n",
    "|--------------------|\n",
    "| SAS |\n",
    "| Big ML |\n",
    "| Apache Spark |\n",
    "| ggplot2 |\n",
    "| Tableau |\n",
    "| Jupyter |\n",
    "| Scikit-learn |\n",
    "| TensorFlow |\n",
    "\n",
    "\n",
    "\n"
   ]
  },
  {
   "cell_type": "markdown",
   "id": "f81bb7e9",
   "metadata": {},
   "source": [
    "### Hours To Minutes ###"
   ]
  },
  {
   "cell_type": "code",
   "execution_count": 8,
   "id": "c1c297df",
   "metadata": {},
   "outputs": [
    {
     "name": "stdout",
     "output_type": "stream",
     "text": [
      "02:05\n"
     ]
    }
   ],
   "source": [
    "minutes = 125\n",
    "print(\"%02d:%02d\" % (divmod(minutes, 60)))"
   ]
  },
  {
   "cell_type": "code",
   "execution_count": null,
   "id": "30b63d5c",
   "metadata": {},
   "outputs": [],
   "source": []
  }
 ],
 "metadata": {
  "kernelspec": {
   "display_name": "Python 3 (ipykernel)",
   "language": "python",
   "name": "python3"
  },
  "language_info": {
   "codemirror_mode": {
    "name": "ipython",
    "version": 3
   },
   "file_extension": ".py",
   "mimetype": "text/x-python",
   "name": "python",
   "nbconvert_exporter": "python",
   "pygments_lexer": "ipython3",
   "version": "3.9.13"
  }
 },
 "nbformat": 4,
 "nbformat_minor": 5
}
